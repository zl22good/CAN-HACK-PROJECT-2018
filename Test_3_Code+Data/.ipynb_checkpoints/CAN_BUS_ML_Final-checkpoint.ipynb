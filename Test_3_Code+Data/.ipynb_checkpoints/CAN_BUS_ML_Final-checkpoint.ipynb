{
 "cells": [
  {
   "cell_type": "markdown",
   "metadata": {},
   "source": [
    "# CAN BUS Machine Learning"
   ]
  },
  {
   "cell_type": "markdown",
   "metadata": {},
   "source": [
    "### Imports"
   ]
  },
  {
   "cell_type": "code",
   "execution_count": 2,
   "metadata": {},
   "outputs": [],
   "source": [
    "import pandas as pd\n",
    "from  sklearn.preprocessing  import StandardScaler\n",
    "from sklearn.linear_model import LogisticRegression\n",
    "import numpy as np\n",
    "from sklearn.metrics import accuracy_score\n",
    "from sklearn.metrics import classification_report\n"
   ]
  },
  {
   "cell_type": "markdown",
   "metadata": {},
   "source": [
    "### Training Code"
   ]
  },
  {
   "cell_type": "code",
   "execution_count": 3,
   "metadata": {},
   "outputs": [
    {
     "name": "stdout",
     "output_type": "stream",
     "text": [
      "Accuracy: 92.50690597767573 %\n",
      "Classification Stats:\n",
      "             precision    recall  f1-score   support\n",
      "\n",
      "          0       0.99      0.26      0.41     69588\n",
      "          1       0.92      1.00      0.96    623290\n",
      "\n",
      "avg / total       0.93      0.93      0.90    692878\n",
      "\n"
     ]
    }
   ],
   "source": [
    "\n",
    "# turn of warning messages\n",
    "pd.options.mode.chained_assignment = None  # default='warn'\n",
    "\n",
    "# get data\n",
    "df = pd.read_csv('trimmedMTrainingData.csv')\n",
    "#df\n",
    "# get features and corresponding outcomes\n",
    "feature_names = ['can_id', 'can_data_byte_0', 'can_data_byte_1', 'can_data_byte_2', 'can_data_byte_3', 'can_data_byte_4',\n",
    "                 'can_data_byte_5', 'can_data_byte_6', 'can_data_byte_7']\n",
    "training_features = df[feature_names]\n",
    "\n",
    "outcome_name = ['data_type']\n",
    "outcome_labels = df[outcome_name]\n",
    "# list down features based on type\n",
    "numeric_feature_names = ['can_data_byte_0', 'can_data_byte_1', 'can_data_byte_2', 'can_data_byte_3', 'can_data_byte_4',\n",
    "                 'can_data_byte_5', 'can_data_byte_6', 'can_data_byte_7']\n",
    "categoricial_feature_names = ['can_id']\n",
    "ss = StandardScaler()\n",
    "\n",
    "# fit scaler on numeric features\n",
    "ss.fit(training_features[numeric_feature_names])\n",
    "\n",
    "# scale numeric features now\n",
    "training_features[numeric_feature_names] = ss.transform(training_features[numeric_feature_names])\n",
    "training_features = pd.get_dummies(training_features, columns=categoricial_feature_names)\n",
    "\n",
    "# fit the model\n",
    "lr = LogisticRegression() \n",
    "model = lr.fit(training_features, (outcome_labels['data_type']))\n",
    "\n",
    "categorical_engineered_features = list(set(training_features.columns) - set(numeric_feature_names))\n",
    "# simple evaluation on training data\n",
    "pred_labels = model.predict(training_features)\n",
    "actual_labels = np.array(outcome_labels['data_type'])\n",
    "\n",
    "print('Accuracy:', float(accuracy_score(actual_labels, pred_labels))*100, '%')\n",
    "print('Classification Stats:')\n",
    "print(classification_report(actual_labels, pred_labels))"
   ]
  },
  {
   "cell_type": "markdown",
   "metadata": {},
   "source": [
    "### Testing Code"
   ]
  },
  {
   "cell_type": "code",
   "execution_count": 7,
   "metadata": {},
   "outputs": [
    {
     "name": "stdout",
     "output_type": "stream",
     "text": [
      "92.57666573336142\n"
     ]
    }
   ],
   "source": [
    "Average_Sum = 0\n",
    "Max_Tests = 40\n",
    "\n",
    "for i in range(0,Max_Tests):\n",
    "    data_name = \"trimmedMTestData_\" + str(i) + \".csv\"\n",
    "     #turn of warning messages\n",
    "    pd.options.mode.chained_assignment = None  # default='warn'\n",
    "\n",
    "    # get data\n",
    "    df = pd.read_csv(data_name)\n",
    "    #df\n",
    "    # get features and corresponding outcomes\n",
    "    feature_names = ['can_id', 'can_data_byte_0', 'can_data_byte_1', 'can_data_byte_2', 'can_data_byte_3', 'can_data_byte_4',\n",
    "                 'can_data_byte_5', 'can_data_byte_6', 'can_data_byte_7']\n",
    "    training_features = df[feature_names]\n",
    "\n",
    "    outcome_name = ['data_type']\n",
    "    outcome_labels = df[outcome_name]\n",
    "    # list down features based on type\n",
    "    numeric_feature_names = ['can_data_byte_0', 'can_data_byte_1', 'can_data_byte_2', 'can_data_byte_3', 'can_data_byte_4',\n",
    "                 'can_data_byte_5', 'can_data_byte_6', 'can_data_byte_7']\n",
    "    categoricial_feature_names = ['can_id']\n",
    "    ss = StandardScaler()\n",
    "\n",
    "    # fit scaler on numeric features\n",
    "    ss.fit(training_features[numeric_feature_names])\n",
    "\n",
    "    # scale numeric features now\n",
    "    training_features[numeric_feature_names] = ss.transform(training_features[numeric_feature_names])\n",
    "    training_features = pd.get_dummies(training_features, columns=categoricial_feature_names)\n",
    "    categorical_engineered_features = list(set(training_features.columns) - set(numeric_feature_names))\n",
    "    # simple evaluation on training data\n",
    "    pred_labels = model.predict(training_features)\n",
    "    actual_labels = np.array(outcome_labels['data_type'])\n",
    "\n",
    "    Average_Sum += (float(accuracy_score(actual_labels, pred_labels)))\n",
    "Total_Average = (Average_Sum / Max_Tests) * 100\n",
    "print(Total_Average)"
   ]
  },
  {
   "cell_type": "code",
   "execution_count": null,
   "metadata": {},
   "outputs": [],
   "source": []
  }
 ],
 "metadata": {
  "kernelspec": {
   "display_name": "Python 3",
   "language": "python",
   "name": "python3"
  },
  "language_info": {
   "codemirror_mode": {
    "name": "ipython",
    "version": 3
   },
   "file_extension": ".py",
   "mimetype": "text/x-python",
   "name": "python",
   "nbconvert_exporter": "python",
   "pygments_lexer": "ipython3",
   "version": "3.6.5"
  }
 },
 "nbformat": 4,
 "nbformat_minor": 2
}
